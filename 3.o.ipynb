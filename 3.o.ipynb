{
 "cells": [
  {
   "cell_type": "code",
   "execution_count": 1,
   "id": "b0795085",
   "metadata": {
    "collapsed": true
   },
   "outputs": [
    {
     "name": "stdout",
     "output_type": "stream",
     "text": [
      "Requirement already satisfied: transformers in c:\\users\\praka\\anaconda3\\lib\\site-packages (4.30.2)\n",
      "Requirement already satisfied: filelock in c:\\users\\praka\\anaconda3\\lib\\site-packages (from transformers) (3.6.0)\n",
      "Requirement already satisfied: numpy>=1.17 in c:\\users\\praka\\anaconda3\\lib\\site-packages (from transformers) (1.21.5)\n",
      "Requirement already satisfied: safetensors>=0.3.1 in c:\\users\\praka\\anaconda3\\lib\\site-packages (from transformers) (0.3.1)\n",
      "Requirement already satisfied: packaging>=20.0 in c:\\users\\praka\\anaconda3\\lib\\site-packages (from transformers) (21.3)\n",
      "Requirement already satisfied: tqdm>=4.27 in c:\\users\\praka\\anaconda3\\lib\\site-packages (from transformers) (4.64.1)\n",
      "Requirement already satisfied: pyyaml>=5.1 in c:\\users\\praka\\anaconda3\\lib\\site-packages (from transformers) (6.0)\n",
      "Requirement already satisfied: huggingface-hub<1.0,>=0.14.1 in c:\\users\\praka\\anaconda3\\lib\\site-packages (from transformers) (0.15.1)\n",
      "Requirement already satisfied: tokenizers!=0.11.3,<0.14,>=0.11.1 in c:\\users\\praka\\anaconda3\\lib\\site-packages (from transformers) (0.13.3)\n",
      "Requirement already satisfied: requests in c:\\users\\praka\\anaconda3\\lib\\site-packages (from transformers) (2.28.1)\n",
      "Requirement already satisfied: regex!=2019.12.17 in c:\\users\\praka\\anaconda3\\lib\\site-packages (from transformers) (2022.7.9)\n",
      "Requirement already satisfied: fsspec in c:\\users\\praka\\anaconda3\\lib\\site-packages (from huggingface-hub<1.0,>=0.14.1->transformers) (2022.7.1)\n",
      "Requirement already satisfied: typing-extensions>=3.7.4.3 in c:\\users\\praka\\anaconda3\\lib\\site-packages (from huggingface-hub<1.0,>=0.14.1->transformers) (4.3.0)\n",
      "Requirement already satisfied: pyparsing!=3.0.5,>=2.0.2 in c:\\users\\praka\\anaconda3\\lib\\site-packages (from packaging>=20.0->transformers) (3.0.9)\n",
      "Requirement already satisfied: colorama in c:\\users\\praka\\anaconda3\\lib\\site-packages (from tqdm>=4.27->transformers) (0.4.5)\n",
      "Requirement already satisfied: certifi>=2017.4.17 in c:\\users\\praka\\anaconda3\\lib\\site-packages (from requests->transformers) (2023.5.7)\n",
      "Requirement already satisfied: idna<4,>=2.5 in c:\\users\\praka\\anaconda3\\lib\\site-packages (from requests->transformers) (3.3)\n",
      "Requirement already satisfied: urllib3<1.27,>=1.21.1 in c:\\users\\praka\\anaconda3\\lib\\site-packages (from requests->transformers) (1.26.11)\n",
      "Requirement already satisfied: charset-normalizer<3,>=2 in c:\\users\\praka\\anaconda3\\lib\\site-packages (from requests->transformers) (2.0.4)\n",
      "Note: you may need to restart the kernel to use updated packages.\n"
     ]
    }
   ],
   "source": [
    "pip install transformers"
   ]
  },
  {
   "cell_type": "code",
   "execution_count": 2,
   "id": "5077e1ed",
   "metadata": {
    "collapsed": true
   },
   "outputs": [
    {
     "name": "stdout",
     "output_type": "stream",
     "text": [
      "Requirement already satisfied: open3d in c:\\users\\praka\\anaconda3\\lib\\site-packages (0.17.0)\n",
      "Requirement already satisfied: dash>=2.6.0 in c:\\users\\praka\\anaconda3\\lib\\site-packages (from open3d) (2.10.2)\n",
      "Requirement already satisfied: configargparse in c:\\users\\praka\\anaconda3\\lib\\site-packages (from open3d) (1.5.3)\n",
      "Requirement already satisfied: numpy>=1.18.0 in c:\\users\\praka\\anaconda3\\lib\\site-packages (from open3d) (1.21.5)\n",
      "Requirement already satisfied: ipywidgets>=8.0.4 in c:\\users\\praka\\anaconda3\\lib\\site-packages (from open3d) (8.0.6)\n",
      "Requirement already satisfied: nbformat==5.7.0 in c:\\users\\praka\\anaconda3\\lib\\site-packages (from open3d) (5.7.0)\n",
      "Requirement already satisfied: werkzeug>=2.2.3 in c:\\users\\praka\\anaconda3\\lib\\site-packages (from open3d) (2.2.3)\n",
      "Requirement already satisfied: traitlets>=5.1 in c:\\users\\praka\\anaconda3\\lib\\site-packages (from nbformat==5.7.0->open3d) (5.1.1)\n",
      "Requirement already satisfied: jsonschema>=2.6 in c:\\users\\praka\\anaconda3\\lib\\site-packages (from nbformat==5.7.0->open3d) (4.16.0)\n",
      "Requirement already satisfied: jupyter-core in c:\\users\\praka\\anaconda3\\lib\\site-packages (from nbformat==5.7.0->open3d) (4.11.1)\n",
      "Requirement already satisfied: fastjsonschema in c:\\users\\praka\\anaconda3\\lib\\site-packages (from nbformat==5.7.0->open3d) (2.16.2)\n",
      "Requirement already satisfied: plotly>=5.0.0 in c:\\users\\praka\\anaconda3\\lib\\site-packages (from dash>=2.6.0->open3d) (5.9.0)\n",
      "Requirement already satisfied: dash-table==5.0.0 in c:\\users\\praka\\anaconda3\\lib\\site-packages (from dash>=2.6.0->open3d) (5.0.0)\n",
      "Requirement already satisfied: Flask<2.3.0,>=1.0.4 in c:\\users\\praka\\anaconda3\\lib\\site-packages (from dash>=2.6.0->open3d) (1.1.2)\n",
      "Requirement already satisfied: dash-core-components==2.0.0 in c:\\users\\praka\\anaconda3\\lib\\site-packages (from dash>=2.6.0->open3d) (2.0.0)\n",
      "Requirement already satisfied: dash-html-components==2.0.0 in c:\\users\\praka\\anaconda3\\lib\\site-packages (from dash>=2.6.0->open3d) (2.0.0)\n",
      "Requirement already satisfied: ipykernel>=4.5.1 in c:\\users\\praka\\anaconda3\\lib\\site-packages (from ipywidgets>=8.0.4->open3d) (6.15.2)\n",
      "Requirement already satisfied: widgetsnbextension~=4.0.7 in c:\\users\\praka\\anaconda3\\lib\\site-packages (from ipywidgets>=8.0.4->open3d) (4.0.7)\n",
      "Requirement already satisfied: ipython>=6.1.0 in c:\\users\\praka\\anaconda3\\lib\\site-packages (from ipywidgets>=8.0.4->open3d) (7.31.1)\n",
      "Requirement already satisfied: jupyterlab-widgets~=3.0.7 in c:\\users\\praka\\anaconda3\\lib\\site-packages (from ipywidgets>=8.0.4->open3d) (3.0.7)\n",
      "Requirement already satisfied: MarkupSafe>=2.1.1 in c:\\users\\praka\\anaconda3\\lib\\site-packages (from werkzeug>=2.2.3->open3d) (2.1.3)\n",
      "Requirement already satisfied: itsdangerous>=0.24 in c:\\users\\praka\\anaconda3\\lib\\site-packages (from Flask<2.3.0,>=1.0.4->dash>=2.6.0->open3d) (2.0.1)\n",
      "Requirement already satisfied: Jinja2>=2.10.1 in c:\\users\\praka\\anaconda3\\lib\\site-packages (from Flask<2.3.0,>=1.0.4->dash>=2.6.0->open3d) (2.11.3)\n",
      "Requirement already satisfied: click>=5.1 in c:\\users\\praka\\anaconda3\\lib\\site-packages (from Flask<2.3.0,>=1.0.4->dash>=2.6.0->open3d) (8.0.4)\n",
      "Requirement already satisfied: nest-asyncio in c:\\users\\praka\\anaconda3\\lib\\site-packages (from ipykernel>=4.5.1->ipywidgets>=8.0.4->open3d) (1.5.5)\n",
      "Requirement already satisfied: jupyter-client>=6.1.12 in c:\\users\\praka\\anaconda3\\lib\\site-packages (from ipykernel>=4.5.1->ipywidgets>=8.0.4->open3d) (7.3.4)\n",
      "Requirement already satisfied: packaging in c:\\users\\praka\\anaconda3\\lib\\site-packages (from ipykernel>=4.5.1->ipywidgets>=8.0.4->open3d) (21.3)\n",
      "Requirement already satisfied: debugpy>=1.0 in c:\\users\\praka\\anaconda3\\lib\\site-packages (from ipykernel>=4.5.1->ipywidgets>=8.0.4->open3d) (1.5.1)\n",
      "Requirement already satisfied: pyzmq>=17 in c:\\users\\praka\\anaconda3\\lib\\site-packages (from ipykernel>=4.5.1->ipywidgets>=8.0.4->open3d) (23.2.0)\n",
      "Requirement already satisfied: tornado>=6.1 in c:\\users\\praka\\anaconda3\\lib\\site-packages (from ipykernel>=4.5.1->ipywidgets>=8.0.4->open3d) (6.1)\n",
      "Requirement already satisfied: psutil in c:\\users\\praka\\anaconda3\\lib\\site-packages (from ipykernel>=4.5.1->ipywidgets>=8.0.4->open3d) (5.9.0)\n",
      "Requirement already satisfied: matplotlib-inline>=0.1 in c:\\users\\praka\\anaconda3\\lib\\site-packages (from ipykernel>=4.5.1->ipywidgets>=8.0.4->open3d) (0.1.6)\n",
      "Requirement already satisfied: prompt-toolkit!=3.0.0,!=3.0.1,<3.1.0,>=2.0.0 in c:\\users\\praka\\anaconda3\\lib\\site-packages (from ipython>=6.1.0->ipywidgets>=8.0.4->open3d) (3.0.20)\n",
      "Requirement already satisfied: pygments in c:\\users\\praka\\anaconda3\\lib\\site-packages (from ipython>=6.1.0->ipywidgets>=8.0.4->open3d) (2.15.1)\n",
      "Requirement already satisfied: pickleshare in c:\\users\\praka\\anaconda3\\lib\\site-packages (from ipython>=6.1.0->ipywidgets>=8.0.4->open3d) (0.7.5)\n",
      "Requirement already satisfied: setuptools>=18.5 in c:\\users\\praka\\anaconda3\\lib\\site-packages (from ipython>=6.1.0->ipywidgets>=8.0.4->open3d) (63.4.1)\n",
      "Requirement already satisfied: backcall in c:\\users\\praka\\anaconda3\\lib\\site-packages (from ipython>=6.1.0->ipywidgets>=8.0.4->open3d) (0.2.0)\n",
      "Requirement already satisfied: decorator in c:\\users\\praka\\anaconda3\\lib\\site-packages (from ipython>=6.1.0->ipywidgets>=8.0.4->open3d) (5.1.1)\n",
      "Requirement already satisfied: jedi>=0.16 in c:\\users\\praka\\anaconda3\\lib\\site-packages (from ipython>=6.1.0->ipywidgets>=8.0.4->open3d) (0.18.1)\n",
      "Requirement already satisfied: colorama in c:\\users\\praka\\anaconda3\\lib\\site-packages (from ipython>=6.1.0->ipywidgets>=8.0.4->open3d) (0.4.5)\n",
      "Requirement already satisfied: pyrsistent!=0.17.0,!=0.17.1,!=0.17.2,>=0.14.0 in c:\\users\\praka\\anaconda3\\lib\\site-packages (from jsonschema>=2.6->nbformat==5.7.0->open3d) (0.18.0)\n",
      "Requirement already satisfied: attrs>=17.4.0 in c:\\users\\praka\\anaconda3\\lib\\site-packages (from jsonschema>=2.6->nbformat==5.7.0->open3d) (21.4.0)\n",
      "Requirement already satisfied: tenacity>=6.2.0 in c:\\users\\praka\\anaconda3\\lib\\site-packages (from plotly>=5.0.0->dash>=2.6.0->open3d) (8.0.1)\n",
      "Requirement already satisfied: pywin32>=1.0 in c:\\users\\praka\\anaconda3\\lib\\site-packages (from jupyter-core->nbformat==5.7.0->open3d) (302)\n",
      "Requirement already satisfied: parso<0.9.0,>=0.8.0 in c:\\users\\praka\\anaconda3\\lib\\site-packages (from jedi>=0.16->ipython>=6.1.0->ipywidgets>=8.0.4->open3d) (0.8.3)\n",
      "Requirement already satisfied: entrypoints in c:\\users\\praka\\anaconda3\\lib\\site-packages (from jupyter-client>=6.1.12->ipykernel>=4.5.1->ipywidgets>=8.0.4->open3d) (0.4)\n",
      "Requirement already satisfied: python-dateutil>=2.8.2 in c:\\users\\praka\\anaconda3\\lib\\site-packages (from jupyter-client>=6.1.12->ipykernel>=4.5.1->ipywidgets>=8.0.4->open3d) (2.8.2)\n",
      "Requirement already satisfied: wcwidth in c:\\users\\praka\\anaconda3\\lib\\site-packages (from prompt-toolkit!=3.0.0,!=3.0.1,<3.1.0,>=2.0.0->ipython>=6.1.0->ipywidgets>=8.0.4->open3d) (0.2.5)\n",
      "Requirement already satisfied: pyparsing!=3.0.5,>=2.0.2 in c:\\users\\praka\\anaconda3\\lib\\site-packages (from packaging->ipykernel>=4.5.1->ipywidgets>=8.0.4->open3d) (3.0.9)\n",
      "Requirement already satisfied: six>=1.5 in c:\\users\\praka\\anaconda3\\lib\\site-packages (from python-dateutil>=2.8.2->jupyter-client>=6.1.12->ipykernel>=4.5.1->ipywidgets>=8.0.4->open3d) (1.16.0)\n",
      "Note: you may need to restart the kernel to use updated packages.\n"
     ]
    }
   ],
   "source": [
    "pip install open3d"
   ]
  },
  {
   "cell_type": "code",
   "execution_count": 3,
   "id": "4c593b56",
   "metadata": {
    "collapsed": true
   },
   "outputs": [
    {
     "name": "stdout",
     "output_type": "stream",
     "text": [
      "Requirement already satisfied: torch in c:\\users\\praka\\anaconda3\\lib\\site-packages (2.0.1)\n",
      "Requirement already satisfied: filelock in c:\\users\\praka\\anaconda3\\lib\\site-packages (from torch) (3.6.0)\n",
      "Requirement already satisfied: typing-extensions in c:\\users\\praka\\anaconda3\\lib\\site-packages (from torch) (4.3.0)\n",
      "Requirement already satisfied: sympy in c:\\users\\praka\\anaconda3\\lib\\site-packages (from torch) (1.10.1)\n",
      "Requirement already satisfied: networkx in c:\\users\\praka\\anaconda3\\lib\\site-packages (from torch) (2.8.4)\n",
      "Requirement already satisfied: jinja2 in c:\\users\\praka\\anaconda3\\lib\\site-packages (from torch) (2.11.3)\n",
      "Requirement already satisfied: MarkupSafe>=0.23 in c:\\users\\praka\\anaconda3\\lib\\site-packages (from jinja2->torch) (2.1.3)\n",
      "Requirement already satisfied: mpmath>=0.19 in c:\\users\\praka\\anaconda3\\lib\\site-packages (from sympy->torch) (1.2.1)\n",
      "Note: you may need to restart the kernel to use updated packages.\n"
     ]
    }
   ],
   "source": [
    "pip install torch"
   ]
  },
  {
   "cell_type": "code",
   "execution_count": 2,
   "id": "10ce9b47",
   "metadata": {
    "collapsed": true
   },
   "outputs": [
    {
     "name": "stdout",
     "output_type": "stream",
     "text": [
      "Collecting pythreejs\n",
      "  Downloading pythreejs-2.4.2-py3-none-any.whl (3.4 MB)\n",
      "     ---------------------------------------- 3.4/3.4 MB 2.9 MB/s eta 0:00:00\n",
      "Collecting ipydatawidgets>=1.1.1\n",
      "  Downloading ipydatawidgets-4.3.5-py2.py3-none-any.whl (271 kB)\n",
      "     -------------------------------------- 271.7/271.7 kB 1.0 MB/s eta 0:00:00\n",
      "Requirement already satisfied: ipywidgets>=7.2.1 in c:\\users\\praka\\anaconda3\\lib\\site-packages (from pythreejs) (8.0.6)\n",
      "Requirement already satisfied: numpy in c:\\users\\praka\\anaconda3\\lib\\site-packages (from pythreejs) (1.21.5)\n",
      "Requirement already satisfied: traitlets in c:\\users\\praka\\anaconda3\\lib\\site-packages (from pythreejs) (5.1.1)\n",
      "Collecting traittypes>=0.2.0\n",
      "  Downloading traittypes-0.2.1-py2.py3-none-any.whl (8.6 kB)\n",
      "Requirement already satisfied: jupyterlab-widgets~=3.0.7 in c:\\users\\praka\\anaconda3\\lib\\site-packages (from ipywidgets>=7.2.1->pythreejs) (3.0.7)\n",
      "Requirement already satisfied: ipython>=6.1.0 in c:\\users\\praka\\anaconda3\\lib\\site-packages (from ipywidgets>=7.2.1->pythreejs) (7.31.1)\n",
      "Requirement already satisfied: widgetsnbextension~=4.0.7 in c:\\users\\praka\\anaconda3\\lib\\site-packages (from ipywidgets>=7.2.1->pythreejs) (4.0.7)\n",
      "Requirement already satisfied: ipykernel>=4.5.1 in c:\\users\\praka\\anaconda3\\lib\\site-packages (from ipywidgets>=7.2.1->pythreejs) (6.15.2)\n",
      "Requirement already satisfied: pyzmq>=17 in c:\\users\\praka\\anaconda3\\lib\\site-packages (from ipykernel>=4.5.1->ipywidgets>=7.2.1->pythreejs) (23.2.0)\n",
      "Requirement already satisfied: matplotlib-inline>=0.1 in c:\\users\\praka\\anaconda3\\lib\\site-packages (from ipykernel>=4.5.1->ipywidgets>=7.2.1->pythreejs) (0.1.6)\n",
      "Requirement already satisfied: psutil in c:\\users\\praka\\anaconda3\\lib\\site-packages (from ipykernel>=4.5.1->ipywidgets>=7.2.1->pythreejs) (5.9.0)\n",
      "Requirement already satisfied: packaging in c:\\users\\praka\\anaconda3\\lib\\site-packages (from ipykernel>=4.5.1->ipywidgets>=7.2.1->pythreejs) (21.3)\n",
      "Requirement already satisfied: jupyter-client>=6.1.12 in c:\\users\\praka\\anaconda3\\lib\\site-packages (from ipykernel>=4.5.1->ipywidgets>=7.2.1->pythreejs) (7.3.4)\n",
      "Requirement already satisfied: nest-asyncio in c:\\users\\praka\\anaconda3\\lib\\site-packages (from ipykernel>=4.5.1->ipywidgets>=7.2.1->pythreejs) (1.5.5)\n",
      "Requirement already satisfied: debugpy>=1.0 in c:\\users\\praka\\anaconda3\\lib\\site-packages (from ipykernel>=4.5.1->ipywidgets>=7.2.1->pythreejs) (1.5.1)\n",
      "Requirement already satisfied: tornado>=6.1 in c:\\users\\praka\\anaconda3\\lib\\site-packages (from ipykernel>=4.5.1->ipywidgets>=7.2.1->pythreejs) (6.1)\n",
      "Requirement already satisfied: prompt-toolkit!=3.0.0,!=3.0.1,<3.1.0,>=2.0.0 in c:\\users\\praka\\anaconda3\\lib\\site-packages (from ipython>=6.1.0->ipywidgets>=7.2.1->pythreejs) (3.0.20)\n",
      "Requirement already satisfied: backcall in c:\\users\\praka\\anaconda3\\lib\\site-packages (from ipython>=6.1.0->ipywidgets>=7.2.1->pythreejs) (0.2.0)\n",
      "Requirement already satisfied: pickleshare in c:\\users\\praka\\anaconda3\\lib\\site-packages (from ipython>=6.1.0->ipywidgets>=7.2.1->pythreejs) (0.7.5)\n",
      "Requirement already satisfied: pygments in c:\\users\\praka\\anaconda3\\lib\\site-packages (from ipython>=6.1.0->ipywidgets>=7.2.1->pythreejs) (2.15.1)\n",
      "Requirement already satisfied: colorama in c:\\users\\praka\\anaconda3\\lib\\site-packages (from ipython>=6.1.0->ipywidgets>=7.2.1->pythreejs) (0.4.5)\n",
      "Requirement already satisfied: decorator in c:\\users\\praka\\anaconda3\\lib\\site-packages (from ipython>=6.1.0->ipywidgets>=7.2.1->pythreejs) (5.1.1)\n",
      "Requirement already satisfied: setuptools>=18.5 in c:\\users\\praka\\anaconda3\\lib\\site-packages (from ipython>=6.1.0->ipywidgets>=7.2.1->pythreejs) (63.4.1)\n",
      "Requirement already satisfied: jedi>=0.16 in c:\\users\\praka\\anaconda3\\lib\\site-packages (from ipython>=6.1.0->ipywidgets>=7.2.1->pythreejs) (0.18.1)\n",
      "Requirement already satisfied: parso<0.9.0,>=0.8.0 in c:\\users\\praka\\anaconda3\\lib\\site-packages (from jedi>=0.16->ipython>=6.1.0->ipywidgets>=7.2.1->pythreejs) (0.8.3)\n",
      "Requirement already satisfied: jupyter-core>=4.9.2 in c:\\users\\praka\\anaconda3\\lib\\site-packages (from jupyter-client>=6.1.12->ipykernel>=4.5.1->ipywidgets>=7.2.1->pythreejs) (4.11.1)\n",
      "Requirement already satisfied: entrypoints in c:\\users\\praka\\anaconda3\\lib\\site-packages (from jupyter-client>=6.1.12->ipykernel>=4.5.1->ipywidgets>=7.2.1->pythreejs) (0.4)\n",
      "Requirement already satisfied: python-dateutil>=2.8.2 in c:\\users\\praka\\anaconda3\\lib\\site-packages (from jupyter-client>=6.1.12->ipykernel>=4.5.1->ipywidgets>=7.2.1->pythreejs) (2.8.2)\n",
      "Requirement already satisfied: wcwidth in c:\\users\\praka\\anaconda3\\lib\\site-packages (from prompt-toolkit!=3.0.0,!=3.0.1,<3.1.0,>=2.0.0->ipython>=6.1.0->ipywidgets>=7.2.1->pythreejs) (0.2.5)\n",
      "Requirement already satisfied: pyparsing!=3.0.5,>=2.0.2 in c:\\users\\praka\\anaconda3\\lib\\site-packages (from packaging->ipykernel>=4.5.1->ipywidgets>=7.2.1->pythreejs) (3.0.9)\n",
      "Requirement already satisfied: pywin32>=1.0 in c:\\users\\praka\\anaconda3\\lib\\site-packages (from jupyter-core>=4.9.2->jupyter-client>=6.1.12->ipykernel>=4.5.1->ipywidgets>=7.2.1->pythreejs) (302)\n",
      "Requirement already satisfied: six>=1.5 in c:\\users\\praka\\anaconda3\\lib\\site-packages (from python-dateutil>=2.8.2->jupyter-client>=6.1.12->ipykernel>=4.5.1->ipywidgets>=7.2.1->pythreejs) (1.16.0)\n",
      "Installing collected packages: traittypes, ipydatawidgets, pythreejs\n",
      "Successfully installed ipydatawidgets-4.3.5 pythreejs-2.4.2 traittypes-0.2.1\n",
      "Note: you may need to restart the kernel to use updated packages.\n"
     ]
    }
   ],
   "source": [
    "pip install pythreejs"
   ]
  },
  {
   "cell_type": "code",
   "execution_count": 12,
   "id": "d0be3355",
   "metadata": {
    "collapsed": true
   },
   "outputs": [
    {
     "name": "stdout",
     "output_type": "stream",
     "text": [
      "Collecting ipyvolume\n",
      "  Downloading ipyvolume-0.6.3-py3-none-any.whl (1.6 MB)\n",
      "     ---------------------------------------- 1.6/1.6 MB 1.7 MB/s eta 0:00:00\n",
      "Requirement already satisfied: ipywidgets>=7.0.0 in c:\\users\\praka\\anaconda3\\lib\\site-packages (from ipyvolume) (8.0.6)\n",
      "Collecting ipyvuetify\n",
      "  Downloading ipyvuetify-1.8.10-py2.py3-none-any.whl (11.7 MB)\n",
      "     ---------------------------------------- 11.7/11.7 MB 2.2 MB/s eta 0:00:00\n",
      "Requirement already satisfied: traittypes in c:\\users\\praka\\anaconda3\\lib\\site-packages (from ipyvolume) (0.2.1)\n",
      "Requirement already satisfied: requests in c:\\users\\praka\\anaconda3\\lib\\site-packages (from ipyvolume) (2.28.1)\n",
      "Requirement already satisfied: numpy in c:\\users\\praka\\anaconda3\\lib\\site-packages (from ipyvolume) (1.21.5)\n",
      "Collecting ipywebrtc\n",
      "  Downloading ipywebrtc-0.6.0-py2.py3-none-any.whl (260 kB)\n",
      "     -------------------------------------- 260.7/260.7 kB 1.8 MB/s eta 0:00:00\n",
      "Requirement already satisfied: Pillow in c:\\users\\praka\\anaconda3\\lib\\site-packages (from ipyvolume) (9.2.0)\n",
      "Collecting bqplot\n",
      "  Downloading bqplot-0.12.39-py2.py3-none-any.whl (1.2 MB)\n",
      "     ---------------------------------------- 1.2/1.2 MB 2.8 MB/s eta 0:00:00\n",
      "Requirement already satisfied: pythreejs>=2.4.0 in c:\\users\\praka\\anaconda3\\lib\\site-packages (from ipyvolume) (2.4.2)\n",
      "Requirement already satisfied: matplotlib in c:\\users\\praka\\anaconda3\\lib\\site-packages (from ipyvolume) (3.5.2)\n",
      "Requirement already satisfied: traitlets in c:\\users\\praka\\anaconda3\\lib\\site-packages (from ipyvolume) (5.1.1)\n",
      "Collecting ipyvue>=1.7.0\n",
      "  Downloading ipyvue-1.9.2-py2.py3-none-any.whl (2.7 MB)\n",
      "     ---------------------------------------- 2.7/2.7 MB 3.9 MB/s eta 0:00:00\n",
      "Requirement already satisfied: jupyterlab-widgets~=3.0.7 in c:\\users\\praka\\anaconda3\\lib\\site-packages (from ipywidgets>=7.0.0->ipyvolume) (3.0.7)\n",
      "Requirement already satisfied: widgetsnbextension~=4.0.7 in c:\\users\\praka\\anaconda3\\lib\\site-packages (from ipywidgets>=7.0.0->ipyvolume) (4.0.7)\n",
      "Requirement already satisfied: ipykernel>=4.5.1 in c:\\users\\praka\\anaconda3\\lib\\site-packages (from ipywidgets>=7.0.0->ipyvolume) (6.15.2)\n",
      "Requirement already satisfied: ipython>=6.1.0 in c:\\users\\praka\\anaconda3\\lib\\site-packages (from ipywidgets>=7.0.0->ipyvolume) (7.31.1)\n",
      "Requirement already satisfied: ipydatawidgets>=1.1.1 in c:\\users\\praka\\anaconda3\\lib\\site-packages (from pythreejs>=2.4.0->ipyvolume) (4.3.5)\n",
      "Requirement already satisfied: pandas<3.0.0,>=1.0.0 in c:\\users\\praka\\anaconda3\\lib\\site-packages (from bqplot->ipyvolume) (1.4.4)\n",
      "Requirement already satisfied: python-dateutil>=2.7 in c:\\users\\praka\\anaconda3\\lib\\site-packages (from matplotlib->ipyvolume) (2.8.2)\n",
      "Requirement already satisfied: cycler>=0.10 in c:\\users\\praka\\anaconda3\\lib\\site-packages (from matplotlib->ipyvolume) (0.11.0)\n",
      "Requirement already satisfied: fonttools>=4.22.0 in c:\\users\\praka\\anaconda3\\lib\\site-packages (from matplotlib->ipyvolume) (4.25.0)\n",
      "Requirement already satisfied: pyparsing>=2.2.1 in c:\\users\\praka\\anaconda3\\lib\\site-packages (from matplotlib->ipyvolume) (3.0.9)\n",
      "Requirement already satisfied: kiwisolver>=1.0.1 in c:\\users\\praka\\anaconda3\\lib\\site-packages (from matplotlib->ipyvolume) (1.4.2)\n",
      "Requirement already satisfied: packaging>=20.0 in c:\\users\\praka\\anaconda3\\lib\\site-packages (from matplotlib->ipyvolume) (21.3)\n",
      "Requirement already satisfied: urllib3<1.27,>=1.21.1 in c:\\users\\praka\\anaconda3\\lib\\site-packages (from requests->ipyvolume) (1.26.11)\n",
      "Requirement already satisfied: charset-normalizer<3,>=2 in c:\\users\\praka\\anaconda3\\lib\\site-packages (from requests->ipyvolume) (2.0.4)\n",
      "Requirement already satisfied: certifi>=2017.4.17 in c:\\users\\praka\\anaconda3\\lib\\site-packages (from requests->ipyvolume) (2023.5.7)\n",
      "Requirement already satisfied: idna<4,>=2.5 in c:\\users\\praka\\anaconda3\\lib\\site-packages (from requests->ipyvolume) (3.3)\n",
      "Requirement already satisfied: tornado>=6.1 in c:\\users\\praka\\anaconda3\\lib\\site-packages (from ipykernel>=4.5.1->ipywidgets>=7.0.0->ipyvolume) (6.1)\n",
      "Requirement already satisfied: jupyter-client>=6.1.12 in c:\\users\\praka\\anaconda3\\lib\\site-packages (from ipykernel>=4.5.1->ipywidgets>=7.0.0->ipyvolume) (7.3.4)\n",
      "Requirement already satisfied: psutil in c:\\users\\praka\\anaconda3\\lib\\site-packages (from ipykernel>=4.5.1->ipywidgets>=7.0.0->ipyvolume) (5.9.0)\n",
      "Requirement already satisfied: nest-asyncio in c:\\users\\praka\\anaconda3\\lib\\site-packages (from ipykernel>=4.5.1->ipywidgets>=7.0.0->ipyvolume) (1.5.5)\n",
      "Requirement already satisfied: debugpy>=1.0 in c:\\users\\praka\\anaconda3\\lib\\site-packages (from ipykernel>=4.5.1->ipywidgets>=7.0.0->ipyvolume) (1.5.1)\n",
      "Requirement already satisfied: pyzmq>=17 in c:\\users\\praka\\anaconda3\\lib\\site-packages (from ipykernel>=4.5.1->ipywidgets>=7.0.0->ipyvolume) (23.2.0)\n",
      "Requirement already satisfied: matplotlib-inline>=0.1 in c:\\users\\praka\\anaconda3\\lib\\site-packages (from ipykernel>=4.5.1->ipywidgets>=7.0.0->ipyvolume) (0.1.6)\n",
      "Requirement already satisfied: pickleshare in c:\\users\\praka\\anaconda3\\lib\\site-packages (from ipython>=6.1.0->ipywidgets>=7.0.0->ipyvolume) (0.7.5)\n",
      "Requirement already satisfied: pygments in c:\\users\\praka\\anaconda3\\lib\\site-packages (from ipython>=6.1.0->ipywidgets>=7.0.0->ipyvolume) (2.15.1)\n",
      "Requirement already satisfied: prompt-toolkit!=3.0.0,!=3.0.1,<3.1.0,>=2.0.0 in c:\\users\\praka\\anaconda3\\lib\\site-packages (from ipython>=6.1.0->ipywidgets>=7.0.0->ipyvolume) (3.0.20)\n",
      "Requirement already satisfied: decorator in c:\\users\\praka\\anaconda3\\lib\\site-packages (from ipython>=6.1.0->ipywidgets>=7.0.0->ipyvolume) (5.1.1)\n",
      "Requirement already satisfied: setuptools>=18.5 in c:\\users\\praka\\anaconda3\\lib\\site-packages (from ipython>=6.1.0->ipywidgets>=7.0.0->ipyvolume) (63.4.1)\n",
      "Requirement already satisfied: backcall in c:\\users\\praka\\anaconda3\\lib\\site-packages (from ipython>=6.1.0->ipywidgets>=7.0.0->ipyvolume) (0.2.0)\n",
      "Requirement already satisfied: colorama in c:\\users\\praka\\anaconda3\\lib\\site-packages (from ipython>=6.1.0->ipywidgets>=7.0.0->ipyvolume) (0.4.5)\n",
      "Requirement already satisfied: jedi>=0.16 in c:\\users\\praka\\anaconda3\\lib\\site-packages (from ipython>=6.1.0->ipywidgets>=7.0.0->ipyvolume) (0.18.1)\n",
      "Requirement already satisfied: pytz>=2020.1 in c:\\users\\praka\\anaconda3\\lib\\site-packages (from pandas<3.0.0,>=1.0.0->bqplot->ipyvolume) (2022.1)\n",
      "Requirement already satisfied: six>=1.5 in c:\\users\\praka\\anaconda3\\lib\\site-packages (from python-dateutil>=2.7->matplotlib->ipyvolume) (1.16.0)\n",
      "Requirement already satisfied: parso<0.9.0,>=0.8.0 in c:\\users\\praka\\anaconda3\\lib\\site-packages (from jedi>=0.16->ipython>=6.1.0->ipywidgets>=7.0.0->ipyvolume) (0.8.3)\n",
      "Requirement already satisfied: entrypoints in c:\\users\\praka\\anaconda3\\lib\\site-packages (from jupyter-client>=6.1.12->ipykernel>=4.5.1->ipywidgets>=7.0.0->ipyvolume) (0.4)\n",
      "Requirement already satisfied: jupyter-core>=4.9.2 in c:\\users\\praka\\anaconda3\\lib\\site-packages (from jupyter-client>=6.1.12->ipykernel>=4.5.1->ipywidgets>=7.0.0->ipyvolume) (4.11.1)\n",
      "Requirement already satisfied: wcwidth in c:\\users\\praka\\anaconda3\\lib\\site-packages (from prompt-toolkit!=3.0.0,!=3.0.1,<3.1.0,>=2.0.0->ipython>=6.1.0->ipywidgets>=7.0.0->ipyvolume) (0.2.5)\n",
      "Requirement already satisfied: pywin32>=1.0 in c:\\users\\praka\\anaconda3\\lib\\site-packages (from jupyter-core>=4.9.2->jupyter-client>=6.1.12->ipykernel>=4.5.1->ipywidgets>=7.0.0->ipyvolume) (302)\n",
      "Installing collected packages: ipywebrtc, ipyvue, bqplot, ipyvuetify, ipyvolume\n",
      "Successfully installed bqplot-0.12.39 ipyvolume-0.6.3 ipyvue-1.9.2 ipyvuetify-1.8.10 ipywebrtc-0.6.0\n",
      "Note: you may need to restart the kernel to use updated packages.\n"
     ]
    }
   ],
   "source": [
    "pip install ipyvolume"
   ]
  },
  {
   "cell_type": "code",
   "execution_count": 2,
   "id": "107ccda8",
   "metadata": {
    "collapsed": true
   },
   "outputs": [
    {
     "name": "stdout",
     "output_type": "stream",
     "text": [
      "Collecting trimesh\n",
      "  Downloading trimesh-3.22.1-py3-none-any.whl (681 kB)\n",
      "     -------------------------------------- 681.6/681.6 kB 1.3 MB/s eta 0:00:00\n",
      "Requirement already satisfied: numpy in c:\\users\\praka\\anaconda3\\lib\\site-packages (from trimesh) (1.21.5)\n",
      "Installing collected packages: trimesh\n",
      "Successfully installed trimesh-3.22.1\n",
      "Note: you may need to restart the kernel to use updated packages.\n"
     ]
    }
   ],
   "source": [
    "pip install trimesh"
   ]
  },
  {
   "cell_type": "code",
   "execution_count": 12,
   "id": "3b97b0fd",
   "metadata": {
    "collapsed": true
   },
   "outputs": [
    {
     "name": "stdout",
     "output_type": "stream",
     "text": [
      "Requirement already satisfied: flask in c:\\users\\praka\\anaconda3\\lib\\site-packages (1.1.2)\n",
      "Requirement already satisfied: Werkzeug>=0.15 in c:\\users\\praka\\anaconda3\\lib\\site-packages (from flask) (2.2.3)\n",
      "Requirement already satisfied: click>=5.1 in c:\\users\\praka\\anaconda3\\lib\\site-packages (from flask) (8.0.4)\n",
      "Requirement already satisfied: Jinja2>=2.10.1 in c:\\users\\praka\\anaconda3\\lib\\site-packages (from flask) (2.11.3)\n",
      "Requirement already satisfied: itsdangerous>=0.24 in c:\\users\\praka\\anaconda3\\lib\\site-packages (from flask) (2.0.1)\n",
      "Requirement already satisfied: colorama in c:\\users\\praka\\anaconda3\\lib\\site-packages (from click>=5.1->flask) (0.4.5)\n",
      "Requirement already satisfied: MarkupSafe>=0.23 in c:\\users\\praka\\anaconda3\\lib\\site-packages (from Jinja2>=2.10.1->flask) (2.1.3)\n",
      "Note: you may need to restart the kernel to use updated packages.\n"
     ]
    }
   ],
   "source": [
    "pip install flask"
   ]
  },
  {
   "cell_type": "code",
   "execution_count": 2,
   "id": "5215c8c1",
   "metadata": {
    "collapsed": true
   },
   "outputs": [
    {
     "name": "stdout",
     "output_type": "stream",
     "text": [
      "Collecting pyglet\n",
      "  Downloading pyglet-2.0.8-py3-none-any.whl (853 kB)\n",
      "     -------------------------------------- 853.1/853.1 kB 1.4 MB/s eta 0:00:00\n",
      "Installing collected packages: pyglet\n",
      "Successfully installed pyglet-2.0.8\n",
      "Note: you may need to restart the kernel to use updated packages.\n"
     ]
    }
   ],
   "source": [
    "pip install pyglet\n"
   ]
  },
  {
   "cell_type": "code",
   "execution_count": 13,
   "id": "1f128b17",
   "metadata": {
    "collapsed": true
   },
   "outputs": [
    {
     "name": "stdout",
     "output_type": "stream",
     "text": [
      "Collecting pyvista\n",
      "  Downloading pyvista-0.39.1-py3-none-any.whl (1.6 MB)\n",
      "     ---------------------------------------- 1.6/1.6 MB 2.0 MB/s eta 0:00:00\n",
      "Requirement already satisfied: numpy in c:\\users\\praka\\anaconda3\\lib\\site-packages (from pyvista) (1.21.5)\n",
      "Collecting pooch\n",
      "  Downloading pooch-1.7.0-py3-none-any.whl (60 kB)\n",
      "     ---------------------------------------- 60.9/60.9 kB 3.4 MB/s eta 0:00:00\n",
      "Collecting scooby>=0.5.1\n",
      "  Downloading scooby-0.7.2-py3-none-any.whl (16 kB)\n",
      "Requirement already satisfied: pillow in c:\\users\\praka\\anaconda3\\lib\\site-packages (from pyvista) (9.2.0)\n",
      "Collecting vtk\n",
      "  Downloading vtk-9.2.6-cp39-cp39-win_amd64.whl (48.8 MB)\n",
      "     ---------------------------------------- 48.8/48.8 MB 1.5 MB/s eta 0:00:00\n",
      "Requirement already satisfied: matplotlib>=3.0.1 in c:\\users\\praka\\anaconda3\\lib\\site-packages (from pyvista) (3.5.2)\n",
      "Requirement already satisfied: packaging>=20.0 in c:\\users\\praka\\anaconda3\\lib\\site-packages (from matplotlib>=3.0.1->pyvista) (21.3)\n",
      "Requirement already satisfied: fonttools>=4.22.0 in c:\\users\\praka\\anaconda3\\lib\\site-packages (from matplotlib>=3.0.1->pyvista) (4.25.0)\n",
      "Requirement already satisfied: cycler>=0.10 in c:\\users\\praka\\anaconda3\\lib\\site-packages (from matplotlib>=3.0.1->pyvista) (0.11.0)\n",
      "Requirement already satisfied: kiwisolver>=1.0.1 in c:\\users\\praka\\anaconda3\\lib\\site-packages (from matplotlib>=3.0.1->pyvista) (1.4.2)\n",
      "Requirement already satisfied: pyparsing>=2.2.1 in c:\\users\\praka\\anaconda3\\lib\\site-packages (from matplotlib>=3.0.1->pyvista) (3.0.9)\n",
      "Requirement already satisfied: python-dateutil>=2.7 in c:\\users\\praka\\anaconda3\\lib\\site-packages (from matplotlib>=3.0.1->pyvista) (2.8.2)\n",
      "Requirement already satisfied: requests>=2.19.0 in c:\\users\\praka\\anaconda3\\lib\\site-packages (from pooch->pyvista) (2.28.1)\n",
      "Requirement already satisfied: platformdirs>=2.5.0 in c:\\users\\praka\\anaconda3\\lib\\site-packages (from pooch->pyvista) (2.5.2)\n",
      "Requirement already satisfied: six>=1.5 in c:\\users\\praka\\anaconda3\\lib\\site-packages (from python-dateutil>=2.7->matplotlib>=3.0.1->pyvista) (1.16.0)\n",
      "Requirement already satisfied: urllib3<1.27,>=1.21.1 in c:\\users\\praka\\anaconda3\\lib\\site-packages (from requests>=2.19.0->pooch->pyvista) (1.26.11)\n",
      "Requirement already satisfied: idna<4,>=2.5 in c:\\users\\praka\\anaconda3\\lib\\site-packages (from requests>=2.19.0->pooch->pyvista) (3.3)\n",
      "Requirement already satisfied: charset-normalizer<3,>=2 in c:\\users\\praka\\anaconda3\\lib\\site-packages (from requests>=2.19.0->pooch->pyvista) (2.0.4)\n",
      "Requirement already satisfied: certifi>=2017.4.17 in c:\\users\\praka\\anaconda3\\lib\\site-packages (from requests>=2.19.0->pooch->pyvista) (2023.5.7)\n",
      "Installing collected packages: scooby, pooch, vtk, pyvista\n",
      "Successfully installed pooch-1.7.0 pyvista-0.39.1 scooby-0.7.2 vtk-9.2.6\n",
      "Note: you may need to restart the kernel to use updated packages.\n"
     ]
    }
   ],
   "source": [
    "pip install pyvista"
   ]
  },
  {
   "cell_type": "code",
   "execution_count": 2,
   "id": "881d61aa",
   "metadata": {
    "collapsed": true
   },
   "outputs": [
    {
     "name": "stdout",
     "output_type": "stream",
     "text": [
      "Collecting pyglet<2\n",
      "  Downloading pyglet-1.5.27-py3-none-any.whl (1.1 MB)\n",
      "     ---------------------------------------- 1.1/1.1 MB 529.4 kB/s eta 0:00:00\n",
      "Installing collected packages: pyglet\n",
      "  Attempting uninstall: pyglet\n",
      "    Found existing installation: pyglet 2.0.8\n",
      "    Uninstalling pyglet-2.0.8:\n",
      "      Successfully uninstalled pyglet-2.0.8\n",
      "Successfully installed pyglet-1.5.27\n",
      "Note: you may need to restart the kernel to use updated packages.\n"
     ]
    }
   ],
   "source": [
    "pip install \"pyglet<2\"\n"
   ]
  },
  {
   "cell_type": "code",
   "execution_count": 11,
   "id": "bd1fd72c",
   "metadata": {
    "collapsed": true
   },
   "outputs": [
    {
     "name": "stdout",
     "output_type": "stream",
     "text": [
      "Requirement already satisfied: trimesh in c:\\users\\praka\\anaconda3\\lib\\site-packages (3.22.1)\n",
      "Requirement already satisfied: numpy in c:\\users\\praka\\anaconda3\\lib\\site-packages (from trimesh) (1.21.5)\n",
      "Note: you may need to restart the kernel to use updated packages.\n"
     ]
    }
   ],
   "source": [
    "pip install trimesh"
   ]
  },
  {
   "cell_type": "code",
   "execution_count": 1,
   "id": "20d77db0",
   "metadata": {
    "scrolled": false
   },
   "outputs": [
    {
     "name": "stdout",
     "output_type": "stream",
     "text": [
      "Jupyter environment detected. Enabling Open3D WebVisualizer.\n",
      "[Open3D INFO] WebRTC GUI backend enabled.\n",
      "[Open3D INFO] WebRTCWindowSystem: HTTP handshake server disabled.\n"
     ]
    },
    {
     "name": "stderr",
     "output_type": "stream",
     "text": [
      "C:\\Users\\praka\\anaconda3\\lib\\site-packages\\gradio\\inputs.py:259: UserWarning: Usage of gradio.inputs is deprecated, and will not be supported in the future, please import your component from gradio.components\n",
      "  warnings.warn(\n",
      "C:\\Users\\praka\\anaconda3\\lib\\site-packages\\gradio\\inputs.py:262: UserWarning: `optional` parameter is deprecated, and it has no effect\n",
      "  super().__init__(\n",
      "C:\\Users\\praka\\anaconda3\\lib\\site-packages\\gradio\\inputs.py:89: UserWarning: Usage of gradio.inputs is deprecated, and will not be supported in the future, please import your component from gradio.components\n",
      "  warnings.warn(\n",
      "C:\\Users\\praka\\anaconda3\\lib\\site-packages\\gradio\\inputs.py:93: UserWarning: `optional` parameter is deprecated, and it has no effect\n",
      "  super().__init__(\n",
      "C:\\Users\\praka\\anaconda3\\lib\\site-packages\\gradio\\outputs.py:43: UserWarning: Usage of gradio.outputs is deprecated, and will not be supported in the future, please import your components from gradio.components\n",
      "  warnings.warn(\n",
      "C:\\Users\\praka\\anaconda3\\lib\\site-packages\\gradio\\outputs.py:98: UserWarning: Usage of gradio.outputs is deprecated, and will not be supported in the future, please import your components from gradio.components\n",
      "  warnings.warn(\n",
      "C:\\Users\\praka\\anaconda3\\lib\\site-packages\\gradio\\interface.py:326: UserWarning: The `allow_flagging` parameter in `Interface` nowtakes a string value ('auto', 'manual', or 'never'), not a boolean. Setting parameter to: 'never'.\n",
      "  warnings.warn(\n"
     ]
    },
    {
     "name": "stdout",
     "output_type": "stream",
     "text": [
      "Running on local URL:  http://127.0.0.1:7860\n",
      "\n",
      "To create a public link, set `share=True` in `launch()`.\n"
     ]
    },
    {
     "data": {
      "text/html": [
       "<div><iframe src=\"http://127.0.0.1:7860/\" width=\"100%\" height=\"500\" allow=\"autoplay; camera; microphone; clipboard-read; clipboard-write;\" frameborder=\"0\" allowfullscreen></iframe></div>"
      ],
      "text/plain": [
       "<IPython.core.display.HTML object>"
      ]
     },
     "metadata": {},
     "output_type": "display_data"
    },
    {
     "data": {
      "text/plain": []
     },
     "execution_count": 1,
     "metadata": {},
     "output_type": "execute_result"
    }
   ],
   "source": [
    "import gradio as gr\n",
    "import numpy as np\n",
    "import open3d as o3d\n",
    "import os\n",
    "from PIL import Image\n",
    "import tempfile\n",
    "import torch\n",
    "from transformers import GLPNImageProcessor, GLPNForDepthEstimation\n",
    "import trimesh\n",
    "import pyvista as pv\n",
    "\n",
    "feature_extractor = GLPNImageProcessor.from_pretrained(\"vinvino02/glpn-nyu\")\n",
    "model = GLPNForDepthEstimation.from_pretrained(\"vinvino02/glpn-nyu\")\n",
    "\n",
    "def process_image(image, quality):\n",
    "    # Predict depth using GLPN model\n",
    "    new_height = 480 if image.height > 480 else image.height\n",
    "    new_height -= (new_height % 32)\n",
    "    new_width = int(new_height * image.width / image.height)\n",
    "    diff = new_width % 32\n",
    "    new_width = new_width - diff if diff < 16 else new_width + 32 - diff\n",
    "    new_size = (new_width, new_height)\n",
    "    image = image.resize(new_size)\n",
    "    inputs = feature_extractor(images=image, return_tensors=\"pt\")\n",
    "    with torch.no_grad():\n",
    "        outputs = model(**inputs)\n",
    "        predicted_depth = outputs.predicted_depth\n",
    "    output = predicted_depth.squeeze().cpu().numpy() * 1000.0\n",
    "    pad = 16\n",
    "    output = output[pad:-pad, pad:-pad]\n",
    "    image = image.crop((pad, pad, image.width - pad, image.height - pad))\n",
    "\n",
    "    # Generate mesh using Open3D\n",
    "    width, height = image.size\n",
    "    depth_image = (output * 255 / np.max(output)).astype('uint8')\n",
    "    image_np = np.array(image)\n",
    "    depth_o3d = o3d.geometry.Image(depth_image)\n",
    "    image_o3d = o3d.geometry.Image(image_np)\n",
    "    rgbd_image = o3d.geometry.RGBDImage.create_from_color_and_depth(image_o3d, depth_o3d, convert_rgb_to_intensity=False)\n",
    "    camera_intrinsic = o3d.camera.PinholeCameraIntrinsic()\n",
    "    camera_intrinsic.set_intrinsics(width, height, 500, 500, width / 2, height / 2)\n",
    "    pcd = o3d.geometry.PointCloud.create_from_rgbd_image(rgbd_image, camera_intrinsic)\n",
    "    cl, ind = pcd.remove_statistical_outlier(nb_neighbors=20, std_ratio=20.0)\n",
    "    pcd = pcd.select_by_index(ind)\n",
    "    pcd.estimate_normals()\n",
    "    pcd.orient_normals_to_align_with_direction(orientation_reference=(0., 0., -1.))\n",
    "    mesh = o3d.geometry.TriangleMesh.create_from_point_cloud_poisson(pcd, depth=quality + 5, n_threads=1)[0]\n",
    "    rotation = mesh.get_rotation_matrix_from_xyz((np.pi, np.pi, 0))\n",
    "    mesh.rotate(rotation, center=(0, 0, 0))\n",
    "    temp_name = next(tempfile._get_candidate_names()) + '.obj'\n",
    "    o3d.io.write_triangle_mesh(temp_name, mesh)\n",
    "\n",
    "    return depth_image, temp_name\n",
    "\n",
    "def generate_mesh_preview(mesh_path):\n",
    "    mesh = trimesh.load_mesh(mesh_path)\n",
    "    pv_mesh = pv.wrap(mesh)\n",
    "    pv_mesh.plot()\n",
    "\n",
    "def process_image_with_gradio(image, quality):\n",
    "    depth_image, mesh_path = process_image(image, quality)\n",
    "    generate_mesh_preview(mesh_path)\n",
    "    return depth_image, mesh_path\n",
    "\n",
    "iface = gr.Interface(\n",
    "    fn=process_image_with_gradio,\n",
    "    inputs=[\n",
    "        gr.inputs.Image(type='pil', label='Drag and Drop or Upload an Image'),\n",
    "        gr.inputs.Slider(1, 5, step=1, default=3, label='Mesh Quality')\n",
    "    ],\n",
    "    outputs=[\n",
    "        gr.outputs.Image(type='numpy', label='Depth Map'),\n",
    "        gr.outputs.File(label='Download Mesh (.obj)'),\n",
    "    ],\n",
    "    title='T.O.R.A',\n",
    "    description='''<div style=\"text-align:center;\">Transforming Object Reconstructing Application</div>''',\n",
    "    allow_flagging=False\n",
    ")\n",
    "\n",
    "iface.launch(inline=True)\n",
    "\n"
   ]
  },
  {
   "cell_type": "code",
   "execution_count": null,
   "id": "6eafc810",
   "metadata": {},
   "outputs": [],
   "source": []
  }
 ],
 "metadata": {
  "kernelspec": {
   "display_name": "Python 3 (ipykernel)",
   "language": "python",
   "name": "python3"
  },
  "language_info": {
   "codemirror_mode": {
    "name": "ipython",
    "version": 3
   },
   "file_extension": ".py",
   "mimetype": "text/x-python",
   "name": "python",
   "nbconvert_exporter": "python",
   "pygments_lexer": "ipython3",
   "version": "3.9.13"
  }
 },
 "nbformat": 4,
 "nbformat_minor": 5
}
